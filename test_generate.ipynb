{
 "cells": [
  {
   "cell_type": "code",
   "execution_count": 1,
   "metadata": {},
   "outputs": [
    {
     "name": "stdout",
     "output_type": "stream",
     "text": [
      "[[0.7813332  0.78742266 0.7145687  0.8336693 ]\n",
      " [0.8237809  0.54790443 0.24254471 0.97344905]\n",
      " [0.8289076  0.23683351 0.27866644 0.6469233 ]\n",
      " [0.67119896 0.06502604 0.9596958  0.5555776 ]\n",
      " [0.01293612 0.40235746 0.6543596  0.26596576]\n",
      " [0.6883337  0.9866823  0.6262581  0.39731765]\n",
      " [0.18344492 0.32845616 0.6601709  0.12515694]\n",
      " [0.99986154 0.11145777 0.29785854 0.98457336]\n",
      " [0.55596834 0.5789395  0.45138943 0.8920926 ]\n",
      " [0.53687006 0.01508015 0.78798324 0.59969866]\n",
      " [0.1192258  0.4202239  0.54847825 0.37373084]\n",
      " [0.9542997  0.70650905 0.27028292 0.06140804]\n",
      " [0.542406   0.23580968 0.91909045 0.24576241]\n",
      " [0.6833456  0.44861054 0.22162598 0.3316726 ]\n",
      " [0.462358   0.7717461  0.15772003 0.47309273]\n",
      " [0.58490956 0.7804164  0.4965189  0.12486297]\n",
      " [0.46206492 0.57882965 0.24902534 0.70675725]\n",
      " [0.6981578  0.6835448  0.3069265  0.03673196]\n",
      " [0.67773044 0.17688459 0.5835371  0.609046  ]\n",
      " [0.8406549  0.26919836 0.3056702  0.4514802 ]]\n"
     ]
    }
   ],
   "source": [
    "import numpy as np\n",
    "rng = np.random.default_rng(50)\n",
    "vector = rng.random((20, 4), dtype=np.float32) \n",
    "print(vector)"
   ]
  },
  {
   "cell_type": "code",
   "execution_count": 6,
   "metadata": {},
   "outputs": [
    {
     "name": "stdout",
     "output_type": "stream",
     "text": [
      "[[0.7813332  0.78742266 0.7145687  0.8336693 ]\n",
      " [0.8237809  0.54790443 0.24254471 0.97344905]\n",
      " [0.8289076  0.23683351 0.27866644 0.6469233 ]\n",
      " [0.67119896 0.06502604 0.9596958  0.5555776 ]\n",
      " [0.01293612 0.40235746 0.6543596  0.26596576]\n",
      " [0.6883337  0.9866823  0.6262581  0.39731765]\n",
      " [0.18344492 0.32845616 0.6601709  0.12515694]\n",
      " [0.99986154 0.11145777 0.29785854 0.98457336]\n",
      " [0.55596834 0.5789395  0.45138943 0.8920926 ]\n",
      " [0.53687006 0.01508015 0.78798324 0.59969866]]\n",
      "------------------\n",
      "[[0.1192258  0.4202239  0.54847825 0.37373084]\n",
      " [0.9542997  0.70650905 0.27028292 0.06140804]\n",
      " [0.542406   0.23580968 0.91909045 0.24576241]\n",
      " [0.6833456  0.44861054 0.22162598 0.3316726 ]\n",
      " [0.462358   0.7717461  0.15772003 0.47309273]\n",
      " [0.58490956 0.7804164  0.4965189  0.12486297]\n",
      " [0.46206492 0.57882965 0.24902534 0.70675725]\n",
      " [0.6981578  0.6835448  0.3069265  0.03673196]\n",
      " [0.67773044 0.17688459 0.5835371  0.609046  ]\n",
      " [0.8406549  0.26919836 0.3056702  0.4514802 ]]\n",
      "------------------\n"
     ]
    }
   ],
   "source": [
    "import numpy as np\n",
    "\n",
    "rng = np.random.default_rng(50)\n",
    "vectors = rng.random((10, 4), dtype=np.float32)\n",
    "print(vectors)\n",
    "print(\"------------------\")\n",
    "del vectors \n",
    "vectors = rng.random((10, 4), dtype=np.float32)\n",
    "print(vectors)\n",
    "print(\"------------------\")"
   ]
  },
  {
   "cell_type": "code",
   "execution_count": null,
   "metadata": {},
   "outputs": [],
   "source": [
    "rng = np.random.default_rng(50)\n",
    "vectors = rng.random((5000000, 70), dtype=np.float32)\n",
    "np.save(\"data/database_5M_1.npy\", vectors)\n",
    "del vectors\n",
    "vectors = rng.random((5000000, 70), dtype=np.float32)\n",
    "np.save(\"data/database_5M_2.npy\", vectors)\n",
    "del vectors\n",
    "vectors = rng.random((5000000, 70), dtype=np.float32)\n",
    "np.save(\"data/database_5M_3.npy\", vectors)\n",
    "del vectors\n",
    "vectors = rng.random((5000000, 70), dtype=np.float32)\n",
    "np.save(\"data/database_5M_4.npy\", vectors)\n",
    "del vectors\n",
    "\n",
    "\n",
    "\n",
    "switch = {\n",
    "    \n",
    "}"
   ]
  },
  {
   "cell_type": "code",
   "execution_count": 12,
   "metadata": {},
   "outputs": [],
   "source": [
    "# Now let's test the loading kmeans when we have multiple files, and we want to load them one by one and create assignments\n",
    "import numpy as np\n",
    "from scipy.cluster.vq import kmeans2\n",
    "from sklearn.cluster import KMeans\n",
    "\n",
    "# rng = np.random.default_rng(50)\n",
    "# vectors = rng.random((10, 3), dtype=np.float32)\n",
    "# np.save(\"test_data/database_10_1.npy\", vectors)\n",
    "# del vectors\n",
    "# vectors = rng.random((10, 3), dtype=np.float32)\n",
    "# np.save(\"test_data/database_10_2.npy\", vectors)\n",
    "# del vectors\n",
    "# vectors = rng.random((10, 3), dtype=np.float32)\n",
    "# np.save(\"test_data/database_10_3.npy\", vectors)\n",
    "# del vectors\n",
    "# vectors = rng.random((10, 3), dtype=np.float32)\n",
    "# np.save(\"test_data/database_10_4.npy\", vectors)\n",
    "# del vectors\n",
    "\n",
    "for i in range(1,5):\n",
    "    vectors = np.load(\"test_data/database_10_\"+str(i)+\".npy\")\n",
    "    print(vectors)\n",
    "    print(\"-----------\")\n",
    "    (centroids, assignments) = kmeans2(vectors, 4)\n",
    "    \n"
   ]
  },
  {
   "cell_type": "code",
   "execution_count": null,
   "metadata": {},
   "outputs": [],
   "source": [
    "import numpy as np\n",
    "import csv\n",
    "\n",
    "rng = np.random.default_rng(50)\n",
    "with open(\"./5m/saved_db_5m.csv\", \"a\", newline=\"\") as csvfile:\n",
    "    pass\n",
    "vectors = rng.random((5000000, 70), dtype=np.float32)\n",
    "np.savetxt(\"./5m/saved_db_5m.csv\", vectors, delimiter=\",\")\n",
    "del vectors\n",
    "\n",
    "###################################\n",
    "rng = np.random.default_rng(50)\n",
    "with open(\"./10m/saved_db_10m.csv\", \"a\", newline=\"\") as csvfile:\n",
    "    pass\n",
    "vectors = rng.random((5000000, 70), dtype=np.float32)\n",
    "np.savetxt(\"./10m/saved_db_10m.csv\", vectors, delimiter=\",\")\n",
    "del vectors\n",
    "\n",
    "vectors = rng.random((5000000, 70), dtype=np.float32)\n",
    "np.savetxt(\"./10m/saved_db_10m.csv\", vectors, delimiter=\",\")\n",
    "del vectors\n",
    "\n",
    "####################################\n",
    "rng = np.random.default_rng(50)\n",
    "with open(\"./15m/saved_db_15m.csv\", \"a\", newline=\"\") as csvfile:\n",
    "    pass\n",
    "vectors = rng.random((5000000, 70), dtype=np.float32)\n",
    "np.savetxt(\"./15m/saved_db_15m.csv\", vectors, delimiter=\",\")\n",
    "del vectors\n",
    "\n",
    "vectors = rng.random((5000000, 70), dtype=np.float32)\n",
    "np.savetxt(\"./15m/saved_db_15m.csv\", vectors, delimiter=\",\")\n",
    "del vectors\n",
    "\n",
    "vectors = rng.random((5000000, 70), dtype=np.float32)\n",
    "np.savetxt(\"./15m/saved_db_15m.csv\", vectors, delimiter=\",\")\n",
    "del vectors"
   ]
  },
  {
   "cell_type": "code",
   "execution_count": 2,
   "metadata": {},
   "outputs": [],
   "source": [
    "import numpy as np\n",
    "rng = np.random.default_rng(50)\n",
    "for i in range(200):\n",
    "    vectors = rng.random((100000, 70), dtype=np.float32)\n",
    "    np.save(f\"./data/batch{i}.npy\", vectors)\n",
    "    del vectors"
   ]
  }
 ],
 "metadata": {
  "kernelspec": {
   "display_name": "adb-env",
   "language": "python",
   "name": "python3"
  },
  "language_info": {
   "codemirror_mode": {
    "name": "ipython",
    "version": 3
   },
   "file_extension": ".py",
   "mimetype": "text/x-python",
   "name": "python",
   "nbconvert_exporter": "python",
   "pygments_lexer": "ipython3",
   "version": "3.11.5"
  }
 },
 "nbformat": 4,
 "nbformat_minor": 2
}
